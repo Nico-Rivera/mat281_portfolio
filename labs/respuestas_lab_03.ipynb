{
 "cells": [
  {
   "cell_type": "markdown",
   "id": "d4fc2e9f",
   "metadata": {},
   "source": [
    "# MAT281 - Laboratorio N°03\n",
    "\n"
   ]
  },
  {
   "cell_type": "markdown",
   "id": "72ba5e95",
   "metadata": {},
   "source": [
    "## Problema 01\n",
    "\n",
    "\n",
    "<img src=\"https://imagenes.universia.net/gc/net/images/practicas-empleo/p/pr/pro/profesiones-con-el-avance-de-la-tecnologia.jpg\" width=\"480\" height=\"360\" align=\"center\"/>\n",
    "\n",
    "\n",
    "EL conjunto de datos se denomina `ocupation.csv`, el cual contiene información de distintos usuarios (edad ,sexo, profesión, etc.).\n",
    "\n",
    "Lo primero es cargar el conjunto de datos y ver las primeras filas que lo componen:"
   ]
  },
  {
   "cell_type": "code",
   "execution_count": 1,
   "id": "6861bfc6",
   "metadata": {},
   "outputs": [],
   "source": [
    "import pandas as pd\n",
    "import os"
   ]
  },
  {
   "cell_type": "code",
   "execution_count": 2,
   "id": "ee27b72e",
   "metadata": {},
   "outputs": [
    {
     "data": {
      "text/html": [
       "<div>\n",
       "<style scoped>\n",
       "    .dataframe tbody tr th:only-of-type {\n",
       "        vertical-align: middle;\n",
       "    }\n",
       "\n",
       "    .dataframe tbody tr th {\n",
       "        vertical-align: top;\n",
       "    }\n",
       "\n",
       "    .dataframe thead th {\n",
       "        text-align: right;\n",
       "    }\n",
       "</style>\n",
       "<table border=\"1\" class=\"dataframe\">\n",
       "  <thead>\n",
       "    <tr style=\"text-align: right;\">\n",
       "      <th></th>\n",
       "      <th>user_id</th>\n",
       "      <th>age</th>\n",
       "      <th>gender</th>\n",
       "      <th>occupation</th>\n",
       "      <th>zip_code</th>\n",
       "    </tr>\n",
       "  </thead>\n",
       "  <tbody>\n",
       "    <tr>\n",
       "      <th>0</th>\n",
       "      <td>1</td>\n",
       "      <td>24</td>\n",
       "      <td>M</td>\n",
       "      <td>technician</td>\n",
       "      <td>85711</td>\n",
       "    </tr>\n",
       "    <tr>\n",
       "      <th>1</th>\n",
       "      <td>2</td>\n",
       "      <td>53</td>\n",
       "      <td>F</td>\n",
       "      <td>other</td>\n",
       "      <td>94043</td>\n",
       "    </tr>\n",
       "    <tr>\n",
       "      <th>2</th>\n",
       "      <td>3</td>\n",
       "      <td>23</td>\n",
       "      <td>M</td>\n",
       "      <td>writer</td>\n",
       "      <td>32067</td>\n",
       "    </tr>\n",
       "    <tr>\n",
       "      <th>3</th>\n",
       "      <td>4</td>\n",
       "      <td>24</td>\n",
       "      <td>M</td>\n",
       "      <td>technician</td>\n",
       "      <td>43537</td>\n",
       "    </tr>\n",
       "    <tr>\n",
       "      <th>4</th>\n",
       "      <td>5</td>\n",
       "      <td>33</td>\n",
       "      <td>F</td>\n",
       "      <td>other</td>\n",
       "      <td>15213</td>\n",
       "    </tr>\n",
       "  </tbody>\n",
       "</table>\n",
       "</div>"
      ],
      "text/plain": [
       "   user_id  age gender  occupation zip_code\n",
       "0        1   24      M  technician    85711\n",
       "1        2   53      F       other    94043\n",
       "2        3   23      M      writer    32067\n",
       "3        4   24      M  technician    43537\n",
       "4        5   33      F       other    15213"
      ]
     },
     "execution_count": 2,
     "metadata": {},
     "output_type": "execute_result"
    }
   ],
   "source": [
    "# cargar datos\n",
    "df = pd.read_csv(os.path.join(\"data\",\"ocupation.csv\"), sep=\"|\")\n",
    "df.head()"
   ]
  },
  {
   "cell_type": "markdown",
   "id": "7e1144e7",
   "metadata": {},
   "source": [
    "El objetivo es tratar de obtener la mayor información posible de este conjunto de datos. Para cumplir este objetivo debe resolver las siguientes problemáticas:\n",
    "\n",
    "1.- ¿Cuál es el número de observaciones en el conjunto de datos?"
   ]
  },
  {
   "cell_type": "code",
   "execution_count": 3,
   "id": "5cd97be5",
   "metadata": {},
   "outputs": [
    {
     "name": "stdout",
     "output_type": "stream",
     "text": [
      "la cantidad de observaciones es:\n",
      "943\n"
     ]
    }
   ],
   "source": [
    "# asumiendo que por observaciones se refiere a la cantidad de filas.\n",
    "f,c = df.shape\n",
    "print('la cantidad de observaciones es:')\n",
    "print(f)"
   ]
  },
  {
   "cell_type": "markdown",
   "id": "b33e30bd",
   "metadata": {},
   "source": [
    "2.- ¿Cuál es el número de columnas en el conjunto de datos?"
   ]
  },
  {
   "cell_type": "code",
   "execution_count": 4,
   "id": "141d8fa9",
   "metadata": {},
   "outputs": [
    {
     "name": "stdout",
     "output_type": "stream",
     "text": [
      "la cantidad de columnas es:\n",
      "5\n"
     ]
    }
   ],
   "source": [
    "print ('la cantidad de columnas es:')\n",
    "print(c)"
   ]
  },
  {
   "cell_type": "markdown",
   "id": "71de8000",
   "metadata": {},
   "source": [
    "3.- Imprime el nombre de todas las columnas"
   ]
  },
  {
   "cell_type": "code",
   "execution_count": 5,
   "id": "e028b6e4",
   "metadata": {},
   "outputs": [
    {
     "name": "stdout",
     "output_type": "stream",
     "text": [
      "Index(['user_id', 'age', 'gender', 'occupation', 'zip_code'], dtype='object')\n"
     ]
    }
   ],
   "source": [
    "print(df.columns)"
   ]
  },
  {
   "cell_type": "markdown",
   "id": "0dac10cc",
   "metadata": {},
   "source": [
    "4.- Imprima el índice del dataframe"
   ]
  },
  {
   "cell_type": "code",
   "execution_count": 6,
   "id": "d7997572",
   "metadata": {},
   "outputs": [
    {
     "name": "stdout",
     "output_type": "stream",
     "text": [
      "RangeIndex(start=0, stop=943, step=1)\n"
     ]
    }
   ],
   "source": [
    "print(df.index)"
   ]
  },
  {
   "cell_type": "markdown",
   "id": "7baa797d",
   "metadata": {},
   "source": [
    "5.- ¿Cuál es el tipo de datos de cada columna?"
   ]
  },
  {
   "cell_type": "code",
   "execution_count": 7,
   "id": "892cefc8",
   "metadata": {},
   "outputs": [
    {
     "name": "stdout",
     "output_type": "stream",
     "text": [
      "user_id        int64\n",
      "age            int64\n",
      "gender        object\n",
      "occupation    object\n",
      "zip_code      object\n",
      "dtype: object\n"
     ]
    }
   ],
   "source": [
    "print(df.dtypes)"
   ]
  },
  {
   "cell_type": "markdown",
   "id": "e9f71305",
   "metadata": {},
   "source": [
    "6.- Describir el conjunto de datos (**hint**: .describe())"
   ]
  },
  {
   "cell_type": "code",
   "execution_count": 8,
   "id": "a4e29113",
   "metadata": {},
   "outputs": [
    {
     "name": "stdout",
     "output_type": "stream",
     "text": [
      "           user_id         age gender occupation zip_code\n",
      "count   943.000000  943.000000    943        943      943\n",
      "unique         NaN         NaN      2         21      795\n",
      "top            NaN         NaN      M    student    55414\n",
      "freq           NaN         NaN    670        196        9\n",
      "mean    472.000000   34.051962    NaN        NaN      NaN\n",
      "std     272.364951   12.192740    NaN        NaN      NaN\n",
      "min       1.000000    7.000000    NaN        NaN      NaN\n",
      "25%     236.500000   25.000000    NaN        NaN      NaN\n",
      "50%     472.000000   31.000000    NaN        NaN      NaN\n",
      "75%     707.500000   43.000000    NaN        NaN      NaN\n",
      "max     943.000000   73.000000    NaN        NaN      NaN\n"
     ]
    }
   ],
   "source": [
    "print(df.describe(include='all'))"
   ]
  },
  {
   "cell_type": "markdown",
   "id": "a9003c7f",
   "metadata": {},
   "source": [
    "7.- Imprimir solo la columna de **occupation**."
   ]
  },
  {
   "cell_type": "code",
   "execution_count": 9,
   "id": "abd2542c",
   "metadata": {},
   "outputs": [
    {
     "name": "stdout",
     "output_type": "stream",
     "text": [
      "0         technician\n",
      "1              other\n",
      "2             writer\n",
      "3         technician\n",
      "4              other\n",
      "           ...      \n",
      "938          student\n",
      "939    administrator\n",
      "940          student\n",
      "941        librarian\n",
      "942          student\n",
      "Name: occupation, Length: 943, dtype: object\n"
     ]
    }
   ],
   "source": [
    "print(df['occupation'])"
   ]
  },
  {
   "cell_type": "markdown",
   "id": "c3278dec",
   "metadata": {},
   "source": [
    "8.- ¿Cuántas ocupaciones diferentes hay en este conjunto de datos?"
   ]
  },
  {
   "cell_type": "code",
   "execution_count": 10,
   "id": "db29768c",
   "metadata": {},
   "outputs": [
    {
     "name": "stdout",
     "output_type": "stream",
     "text": [
      "count         943\n",
      "unique         21\n",
      "top       student\n",
      "freq          196\n",
      "Name: occupation, dtype: object\n",
      "\n",
      "Hay 21 ocupaciones diferentes\n"
     ]
    }
   ],
   "source": [
    "print(df['occupation'].describe())\n",
    "desc = df['occupation'].describe()\n",
    "print('\\nHay '+ str(desc[1]) + ' ocupaciones diferentes')"
   ]
  },
  {
   "cell_type": "markdown",
   "id": "7052543a",
   "metadata": {},
   "source": [
    "9.- ¿Cuál es la ocupación más frecuente?"
   ]
  },
  {
   "cell_type": "code",
   "execution_count": 11,
   "id": "fcfc18c6",
   "metadata": {},
   "outputs": [
    {
     "name": "stdout",
     "output_type": "stream",
     "text": [
      "student es la ocupación mas frecuente\n"
     ]
    }
   ],
   "source": [
    "print(str(df['occupation'].describe()[2]) + ' es la ocupación mas frecuente')"
   ]
  },
  {
   "cell_type": "markdown",
   "id": "5fa6ba98",
   "metadata": {},
   "source": [
    "10.- ¿Cuál es la edad media de los usuarios?"
   ]
  },
  {
   "cell_type": "code",
   "execution_count": 12,
   "id": "94afe777",
   "metadata": {},
   "outputs": [
    {
     "name": "stdout",
     "output_type": "stream",
     "text": [
      "La edad media es 34 años\n"
     ]
    }
   ],
   "source": [
    "media = df['age'].mean()\n",
    "print('La edad media es ' + str (int(media)) + ' años')"
   ]
  },
  {
   "cell_type": "markdown",
   "id": "4bab2806",
   "metadata": {},
   "source": [
    "11.- ¿Cuál es la edad con menos ocurrencia?"
   ]
  },
  {
   "cell_type": "code",
   "execution_count": 13,
   "id": "9c845930",
   "metadata": {},
   "outputs": [
    {
     "name": "stdout",
     "output_type": "stream",
     "text": [
      "la(s) edad(es) con menor frecuencia son:\n",
      "7     1\n",
      "66    1\n",
      "10    1\n",
      "11    1\n",
      "73    1\n",
      "Name: age, dtype: int64\n"
     ]
    }
   ],
   "source": [
    "age_min_freq = df['age'].value_counts().min()\n",
    "mask = (df['age'].value_counts() == age_min_freq)\n",
    "print('la(s) edad(es) con menor frecuencia son:')\n",
    "print(df['age'].value_counts()[mask])\n"
   ]
  },
  {
   "cell_type": "markdown",
   "id": "d2d05edd",
   "metadata": {},
   "source": [
    "12.- Encontrar la edad promedio según la variable **occupation**"
   ]
  },
  {
   "cell_type": "code",
   "execution_count": 14,
   "id": "de914806",
   "metadata": {
    "scrolled": true
   },
   "outputs": [
    {
     "name": "stdout",
     "output_type": "stream",
     "text": [
      "{'technician': 33, 'other': 34, 'writer': 36, 'executive': 38, 'administrator': 38, 'student': 22, 'lawyer': 36, 'educator': 42, 'scientist': 35, 'entertainment': 29, 'programmer': 33, 'librarian': 40, 'homemaker': 32, 'artist': 31, 'engineer': 36, 'marketing': 37, 'none': 26, 'healthcare': 41, 'retired': 63, 'salesman': 35, 'doctor': 43}\n"
     ]
    }
   ],
   "source": [
    "age_p_occ = dict()\n",
    "occups = df['occupation'].unique()\n",
    "for occup in occups:\n",
    "    mask = (df['occupation'] == occup)\n",
    "    age_p_occ[occup] = int(df['age'][mask].mean())\n",
    "print(age_p_occ)"
   ]
  },
  {
   "cell_type": "markdown",
   "id": "7d50fe6f",
   "metadata": {},
   "source": [
    "## Problema 02\n",
    "\n",
    "\n",
    "<img src=\"https://image.freepik.com/vector-gratis/varios-automoviles-dibujos-animados_23-2147613095.jpg\" width=\"360\" height=\"360\" align=\"center\"/>\n",
    "\n",
    "\n",
    "EL conjunto de datos se denomina `Automobile_data.csv`, el cual contiene información tal como: compañia, precio, kilometraje, etc.\n",
    "\n",
    "Lo primero es cargar el conjunto de datos y ver las primeras filas que lo componen:"
   ]
  },
  {
   "cell_type": "code",
   "execution_count": 15,
   "id": "fd719886",
   "metadata": {},
   "outputs": [
    {
     "data": {
      "text/html": [
       "<div>\n",
       "<style scoped>\n",
       "    .dataframe tbody tr th:only-of-type {\n",
       "        vertical-align: middle;\n",
       "    }\n",
       "\n",
       "    .dataframe tbody tr th {\n",
       "        vertical-align: top;\n",
       "    }\n",
       "\n",
       "    .dataframe thead th {\n",
       "        text-align: right;\n",
       "    }\n",
       "</style>\n",
       "<table border=\"1\" class=\"dataframe\">\n",
       "  <thead>\n",
       "    <tr style=\"text-align: right;\">\n",
       "      <th></th>\n",
       "      <th>company</th>\n",
       "      <th>body-style</th>\n",
       "      <th>wheel-base</th>\n",
       "      <th>length</th>\n",
       "      <th>engine-type</th>\n",
       "      <th>num-of-cylinders</th>\n",
       "      <th>horsepower</th>\n",
       "      <th>average-mileage</th>\n",
       "      <th>price</th>\n",
       "    </tr>\n",
       "    <tr>\n",
       "      <th>index</th>\n",
       "      <th></th>\n",
       "      <th></th>\n",
       "      <th></th>\n",
       "      <th></th>\n",
       "      <th></th>\n",
       "      <th></th>\n",
       "      <th></th>\n",
       "      <th></th>\n",
       "      <th></th>\n",
       "    </tr>\n",
       "  </thead>\n",
       "  <tbody>\n",
       "    <tr>\n",
       "      <th>0</th>\n",
       "      <td>alfa-romero</td>\n",
       "      <td>convertible</td>\n",
       "      <td>88.6</td>\n",
       "      <td>168.8</td>\n",
       "      <td>dohc</td>\n",
       "      <td>four</td>\n",
       "      <td>111</td>\n",
       "      <td>21</td>\n",
       "      <td>13495.0</td>\n",
       "    </tr>\n",
       "    <tr>\n",
       "      <th>1</th>\n",
       "      <td>alfa-romero</td>\n",
       "      <td>convertible</td>\n",
       "      <td>88.6</td>\n",
       "      <td>168.8</td>\n",
       "      <td>dohc</td>\n",
       "      <td>four</td>\n",
       "      <td>111</td>\n",
       "      <td>21</td>\n",
       "      <td>16500.0</td>\n",
       "    </tr>\n",
       "    <tr>\n",
       "      <th>2</th>\n",
       "      <td>alfa-romero</td>\n",
       "      <td>hatchback</td>\n",
       "      <td>94.5</td>\n",
       "      <td>171.2</td>\n",
       "      <td>ohcv</td>\n",
       "      <td>six</td>\n",
       "      <td>154</td>\n",
       "      <td>19</td>\n",
       "      <td>16500.0</td>\n",
       "    </tr>\n",
       "    <tr>\n",
       "      <th>3</th>\n",
       "      <td>audi</td>\n",
       "      <td>sedan</td>\n",
       "      <td>99.8</td>\n",
       "      <td>176.6</td>\n",
       "      <td>ohc</td>\n",
       "      <td>four</td>\n",
       "      <td>102</td>\n",
       "      <td>24</td>\n",
       "      <td>13950.0</td>\n",
       "    </tr>\n",
       "    <tr>\n",
       "      <th>4</th>\n",
       "      <td>audi</td>\n",
       "      <td>sedan</td>\n",
       "      <td>99.4</td>\n",
       "      <td>176.6</td>\n",
       "      <td>ohc</td>\n",
       "      <td>five</td>\n",
       "      <td>115</td>\n",
       "      <td>18</td>\n",
       "      <td>17450.0</td>\n",
       "    </tr>\n",
       "  </tbody>\n",
       "</table>\n",
       "</div>"
      ],
      "text/plain": [
       "           company   body-style  wheel-base  length engine-type  \\\n",
       "index                                                             \n",
       "0      alfa-romero  convertible        88.6   168.8        dohc   \n",
       "1      alfa-romero  convertible        88.6   168.8        dohc   \n",
       "2      alfa-romero    hatchback        94.5   171.2        ohcv   \n",
       "3             audi        sedan        99.8   176.6         ohc   \n",
       "4             audi        sedan        99.4   176.6         ohc   \n",
       "\n",
       "      num-of-cylinders  horsepower  average-mileage    price  \n",
       "index                                                         \n",
       "0                 four         111               21  13495.0  \n",
       "1                 four         111               21  16500.0  \n",
       "2                  six         154               19  16500.0  \n",
       "3                 four         102               24  13950.0  \n",
       "4                 five         115               18  17450.0  "
      ]
     },
     "execution_count": 15,
     "metadata": {},
     "output_type": "execute_result"
    }
   ],
   "source": [
    "# cargar datos\n",
    "df_2 = pd.read_csv(os.path.join(\"data\",\"Automobile_data.csv\")).set_index('index')\n",
    "df_2.head()"
   ]
  },
  {
   "cell_type": "markdown",
   "id": "e77b26d4",
   "metadata": {},
   "source": [
    "El objetivo es tratar de obtener la mayor información posible de este conjunto de datos. Para cumplir este objetivo debe resolver las siguientes problemáticas:\n",
    "\n",
    "1. Elimine los valores nulos (Nan)"
   ]
  },
  {
   "cell_type": "code",
   "execution_count": 16,
   "id": "f5e20e7a",
   "metadata": {},
   "outputs": [
    {
     "data": {
      "text/html": [
       "<div>\n",
       "<style scoped>\n",
       "    .dataframe tbody tr th:only-of-type {\n",
       "        vertical-align: middle;\n",
       "    }\n",
       "\n",
       "    .dataframe tbody tr th {\n",
       "        vertical-align: top;\n",
       "    }\n",
       "\n",
       "    .dataframe thead th {\n",
       "        text-align: right;\n",
       "    }\n",
       "</style>\n",
       "<table border=\"1\" class=\"dataframe\">\n",
       "  <thead>\n",
       "    <tr style=\"text-align: right;\">\n",
       "      <th></th>\n",
       "      <th>company</th>\n",
       "      <th>body-style</th>\n",
       "      <th>wheel-base</th>\n",
       "      <th>length</th>\n",
       "      <th>engine-type</th>\n",
       "      <th>num-of-cylinders</th>\n",
       "      <th>horsepower</th>\n",
       "      <th>average-mileage</th>\n",
       "      <th>price</th>\n",
       "    </tr>\n",
       "    <tr>\n",
       "      <th>index</th>\n",
       "      <th></th>\n",
       "      <th></th>\n",
       "      <th></th>\n",
       "      <th></th>\n",
       "      <th></th>\n",
       "      <th></th>\n",
       "      <th></th>\n",
       "      <th></th>\n",
       "      <th></th>\n",
       "    </tr>\n",
       "  </thead>\n",
       "  <tbody>\n",
       "    <tr>\n",
       "      <th>0</th>\n",
       "      <td>alfa-romero</td>\n",
       "      <td>convertible</td>\n",
       "      <td>88.6</td>\n",
       "      <td>168.8</td>\n",
       "      <td>dohc</td>\n",
       "      <td>four</td>\n",
       "      <td>111</td>\n",
       "      <td>21</td>\n",
       "      <td>13495.0</td>\n",
       "    </tr>\n",
       "    <tr>\n",
       "      <th>1</th>\n",
       "      <td>alfa-romero</td>\n",
       "      <td>convertible</td>\n",
       "      <td>88.6</td>\n",
       "      <td>168.8</td>\n",
       "      <td>dohc</td>\n",
       "      <td>four</td>\n",
       "      <td>111</td>\n",
       "      <td>21</td>\n",
       "      <td>16500.0</td>\n",
       "    </tr>\n",
       "    <tr>\n",
       "      <th>2</th>\n",
       "      <td>alfa-romero</td>\n",
       "      <td>hatchback</td>\n",
       "      <td>94.5</td>\n",
       "      <td>171.2</td>\n",
       "      <td>ohcv</td>\n",
       "      <td>six</td>\n",
       "      <td>154</td>\n",
       "      <td>19</td>\n",
       "      <td>16500.0</td>\n",
       "    </tr>\n",
       "    <tr>\n",
       "      <th>3</th>\n",
       "      <td>audi</td>\n",
       "      <td>sedan</td>\n",
       "      <td>99.8</td>\n",
       "      <td>176.6</td>\n",
       "      <td>ohc</td>\n",
       "      <td>four</td>\n",
       "      <td>102</td>\n",
       "      <td>24</td>\n",
       "      <td>13950.0</td>\n",
       "    </tr>\n",
       "    <tr>\n",
       "      <th>4</th>\n",
       "      <td>audi</td>\n",
       "      <td>sedan</td>\n",
       "      <td>99.4</td>\n",
       "      <td>176.6</td>\n",
       "      <td>ohc</td>\n",
       "      <td>five</td>\n",
       "      <td>115</td>\n",
       "      <td>18</td>\n",
       "      <td>17450.0</td>\n",
       "    </tr>\n",
       "  </tbody>\n",
       "</table>\n",
       "</div>"
      ],
      "text/plain": [
       "           company   body-style  wheel-base  length engine-type  \\\n",
       "index                                                             \n",
       "0      alfa-romero  convertible        88.6   168.8        dohc   \n",
       "1      alfa-romero  convertible        88.6   168.8        dohc   \n",
       "2      alfa-romero    hatchback        94.5   171.2        ohcv   \n",
       "3             audi        sedan        99.8   176.6         ohc   \n",
       "4             audi        sedan        99.4   176.6         ohc   \n",
       "\n",
       "      num-of-cylinders  horsepower  average-mileage    price  \n",
       "index                                                         \n",
       "0                 four         111               21  13495.0  \n",
       "1                 four         111               21  16500.0  \n",
       "2                  six         154               19  16500.0  \n",
       "3                 four         102               24  13950.0  \n",
       "4                 five         115               18  17450.0  "
      ]
     },
     "execution_count": 16,
     "metadata": {},
     "output_type": "execute_result"
    }
   ],
   "source": [
    "mask = lambda df: df.notnull().all(axis=1)\n",
    "df_2 = df_2[mask]\n",
    "df_2.head(5)"
   ]
  },
  {
   "cell_type": "markdown",
   "id": "4487b6fe",
   "metadata": {},
   "source": [
    "2. Encuentra el nombre de la compañía de automóviles más cara"
   ]
  },
  {
   "cell_type": "code",
   "execution_count": 17,
   "id": "c76d4d35",
   "metadata": {},
   "outputs": [
    {
     "name": "stdout",
     "output_type": "stream",
     "text": [
      "La compañia mas cara es porsche\n"
     ]
    }
   ],
   "source": [
    "#asumiendo que la mas cara se refiere al precio promedio de los autos que vende dicha compañia\n",
    "\n",
    "comps = df_2['company'].unique()\n",
    "max_price = 0\n",
    "max_comp = str()\n",
    "for comp in comps:\n",
    "    df_aux = df_2.loc[lambda x: x['company'] == comp]\n",
    "    if df_aux['price'].mean() > max_price:\n",
    "        max_price = df_aux['price'].mean()\n",
    "        max_comp = comp\n",
    "print ('La compañia mas cara es ' + max_comp)"
   ]
  },
  {
   "cell_type": "markdown",
   "id": "605db0c5",
   "metadata": {},
   "source": [
    "3. Imprimir todos los detalles de Toyota Cars"
   ]
  },
  {
   "cell_type": "code",
   "execution_count": 18,
   "id": "e552fbd4",
   "metadata": {},
   "outputs": [
    {
     "name": "stdout",
     "output_type": "stream",
     "text": [
      "       company body-style  wheel-base      length engine-type  \\\n",
      "count        7          7    7.000000    7.000000           7   \n",
      "unique       1          2         NaN         NaN           2   \n",
      "top     toyota      wagon         NaN         NaN         ohc   \n",
      "freq         7          4         NaN         NaN           6   \n",
      "mean       NaN        NaN   96.957143  167.571429         NaN   \n",
      "std        NaN        NaN    3.326087   10.479299         NaN   \n",
      "min        NaN        NaN   95.700000  158.700000         NaN   \n",
      "25%        NaN        NaN   95.700000  158.700000         NaN   \n",
      "50%        NaN        NaN   95.700000  169.700000         NaN   \n",
      "75%        NaN        NaN   95.700000  169.700000         NaN   \n",
      "max        NaN        NaN  104.500000  187.800000         NaN   \n",
      "\n",
      "       num-of-cylinders  horsepower  average-mileage         price  \n",
      "count                 7    7.000000         7.000000      7.000000  \n",
      "unique                2         NaN              NaN           NaN  \n",
      "top                four         NaN              NaN           NaN  \n",
      "freq                  6         NaN              NaN           NaN  \n",
      "mean                NaN   75.428571        28.714286   8216.857143  \n",
      "std                 NaN   35.528660         5.089672   3502.409048  \n",
      "min                 NaN   62.000000        19.000000   5348.000000  \n",
      "25%                 NaN   62.000000        27.000000   6413.000000  \n",
      "50%                 NaN   62.000000        31.000000   6918.000000  \n",
      "75%                 NaN   62.000000        31.000000   8338.000000  \n",
      "max                 NaN  156.000000        35.000000  15750.000000  \n"
     ]
    }
   ],
   "source": [
    "df_toyota = df_2.loc[lambda x: x['company'] == 'toyota']\n",
    "print(df_toyota.describe(include = 'all'))"
   ]
  },
  {
   "cell_type": "markdown",
   "id": "7c32153a",
   "metadata": {},
   "source": [
    "4. Cuente el total de automóviles por compañía"
   ]
  },
  {
   "cell_type": "code",
   "execution_count": 19,
   "id": "2791978f",
   "metadata": {},
   "outputs": [
    {
     "name": "stdout",
     "output_type": "stream",
     "text": [
      "{'alfa-romero': 3, 'audi': 4, 'bmw': 6, 'chevrolet': 3, 'dodge': 2, 'honda': 3, 'isuzu': 1, 'jaguar': 3, 'mazda': 5, 'mercedes-benz': 4, 'mitsubishi': 4, 'nissan': 5, 'porsche': 2, 'toyota': 7, 'volkswagen': 4, 'volvo': 2}\n"
     ]
    }
   ],
   "source": [
    "car_p_comp = dict()\n",
    "for comp in comps:\n",
    "    df_aux = df_2.loc[lambda x: x['company'] == comp]\n",
    "    row, col = df_aux.shape\n",
    "    car_p_comp[comp] = row\n",
    "print(car_p_comp) "
   ]
  },
  {
   "cell_type": "markdown",
   "id": "af88e032",
   "metadata": {},
   "source": [
    "5. Encuentra el coche con el precio más alto por compañía"
   ]
  },
  {
   "cell_type": "code",
   "execution_count": 20,
   "id": "ad71e911",
   "metadata": {},
   "outputs": [
    {
     "name": "stdout",
     "output_type": "stream",
     "text": [
      "{'alfa-romero': 16500.0, 'audi': 18920.0, 'bmw': 41315.0, 'chevrolet': 6575.0, 'dodge': 6377.0, 'honda': 12945.0, 'isuzu': 6785.0, 'jaguar': 36000.0, 'mazda': 18344.0, 'mercedes-benz': 45400.0, 'mitsubishi': 8189.0, 'nissan': 13499.0, 'porsche': 37028.0, 'toyota': 15750.0, 'volkswagen': 9995.0, 'volvo': 13415.0}\n"
     ]
    }
   ],
   "source": [
    "max_p_comp = dict()\n",
    "for comp in comps:\n",
    "    df_aux = df_2.loc[lambda x: x['company'] == comp]\n",
    "    max_price = df_aux['price'].max()\n",
    "    max_p_comp[comp] = max_price\n",
    "print(max_p_comp)"
   ]
  },
  {
   "cell_type": "markdown",
   "id": "bf59b61a",
   "metadata": {},
   "source": [
    "6. Encuentre el kilometraje promedio (**average-mileage**) de cada compañía automotriz"
   ]
  },
  {
   "cell_type": "code",
   "execution_count": 21,
   "id": "85bd7f5b",
   "metadata": {},
   "outputs": [
    {
     "name": "stdout",
     "output_type": "stream",
     "text": [
      "{'alfa-romero': 20.333333333333332, 'audi': 20.0, 'bmw': 19.0, 'chevrolet': 41.0, 'dodge': 31.0, 'honda': 26.333333333333332, 'isuzu': 24.0, 'jaguar': 14.333333333333334, 'mazda': 28.0, 'mercedes-benz': 18.0, 'mitsubishi': 29.5, 'nissan': 31.4, 'porsche': 17.0, 'toyota': 28.714285714285715, 'volkswagen': 31.75, 'volvo': 23.0}\n"
     ]
    }
   ],
   "source": [
    "avgm_comp = dict()\n",
    "for comp in comps:\n",
    "    df_aux = df_2.loc[lambda x: x['company'] == comp]\n",
    "    avgm = df_aux['average-mileage'].mean()\n",
    "    avgm_comp[comp] = avgm\n",
    "print(avgm_comp)"
   ]
  },
  {
   "cell_type": "markdown",
   "id": "89652a00",
   "metadata": {},
   "source": [
    "7. Ordenar todos los autos por columna de precio (**price**)"
   ]
  },
  {
   "cell_type": "code",
   "execution_count": 22,
   "id": "ed9f256b",
   "metadata": {},
   "outputs": [
    {
     "name": "stdout",
     "output_type": "stream",
     "text": [
      "          company body-style  wheel-base  length engine-type num-of-cylinders  \\\n",
      "index                                                                           \n",
      "16      chevrolet  hatchback        88.4   141.1           l            three   \n",
      "36          mazda  hatchback        93.1   159.1         ohc             four   \n",
      "66         toyota  hatchback        95.7   158.7         ohc             four   \n",
      "49     mitsubishi  hatchback        93.7   157.3         ohc             four   \n",
      "37          mazda  hatchback        93.1   159.1         ohc             four   \n",
      "\n",
      "       horsepower  average-mileage   price  \n",
      "index                                       \n",
      "16             48               47  5151.0  \n",
      "36             68               30  5195.0  \n",
      "66             62               35  5348.0  \n",
      "49             68               37  5389.0  \n",
      "37             68               31  6095.0  \n"
     ]
    }
   ],
   "source": [
    "df_2 = df_2.sort_values('price',ascending = True)\n",
    "print(df_2.head())"
   ]
  },
  {
   "cell_type": "markdown",
   "id": "0d5c3c01",
   "metadata": {},
   "source": [
    "## Problema 03\n",
    "\n",
    "\n",
    "Siguiendo la temática de los automóviles, resuelva los siguientes problemas:\n",
    "\n",
    "### a) Subproblema 01\n",
    "A partir de los siguientes diccionarios:"
   ]
  },
  {
   "cell_type": "code",
   "execution_count": 23,
   "id": "9c06596b",
   "metadata": {},
   "outputs": [],
   "source": [
    "GermanCars = {'Company': ['Ford', 'Mercedes', 'BMV', 'Audi'],\n",
    "              'Price': [23845, 171995, 135925 , 71400]}\n",
    "japaneseCars = {'Company': ['Toyota', 'Honda', 'Nissan', 'Mitsubishi '], \n",
    "                'Price': [29995, 23600, 61500 , 58900]}"
   ]
  },
  {
   "cell_type": "markdown",
   "id": "e9307bf6",
   "metadata": {},
   "source": [
    "* Cree dos dataframes (**carsDf1** y **carsDf2**) según corresponda.\n",
    "* Concatene ambos dataframes (**carsDf**) y añada una llave [\"Germany\", \"Japan\"], según corresponda."
   ]
  },
  {
   "cell_type": "code",
   "execution_count": 24,
   "id": "7ffb27bd",
   "metadata": {},
   "outputs": [
    {
     "name": "stdout",
     "output_type": "stream",
     "text": [
      "       comp   price\n",
      "0      Ford   23845\n",
      "1  Mercedes  171995\n",
      "2       BMV  135925\n",
      "3      Audi   71400\n",
      "          comp  price\n",
      "0       Toyota  29995\n",
      "1        Honda  23600\n",
      "2       Nissan  61500\n",
      "3  Mitsubishi   58900\n",
      "                  comp   price\n",
      "Germany 0         Ford   23845\n",
      "        1     Mercedes  171995\n",
      "        2          BMV  135925\n",
      "        3         Audi   71400\n",
      "Japan   0       Toyota   29995\n",
      "        1        Honda   23600\n",
      "        2       Nissan   61500\n",
      "        3  Mitsubishi    58900\n"
     ]
    }
   ],
   "source": [
    "Ger_data = list()\n",
    "for i in range(len(GermanCars['Company'])):\n",
    "    Ger_data.append([GermanCars['Company'][i],GermanCars['Price'][i]])\n",
    "carsDf1 = pd.DataFrame(\n",
    "    Ger_data,\n",
    "    columns = [\"comp\",\"price\"]\n",
    "    \n",
    ")\n",
    "print (carsDf1)\n",
    "\n",
    "Jap_data = list()\n",
    "for i in range(len(japaneseCars['Company'])):\n",
    "    Jap_data.append([japaneseCars['Company'][i],japaneseCars['Price'][i]])\n",
    "carsDf2 = pd.DataFrame(\n",
    "    Jap_data,\n",
    "    columns = [\"comp\",\"price\"]\n",
    "    \n",
    ")\n",
    "print (carsDf2)\n",
    "carsDf = pd.DataFrame()\n",
    "frames = [carsDf1,carsDf2]\n",
    "carsDf = pd.concat(frames, keys=[\"Germany\", \"Japan\"])\n",
    "print(carsDf)"
   ]
  },
  {
   "cell_type": "markdown",
   "id": "badb935a",
   "metadata": {},
   "source": [
    "### b) Subproblema 02\n",
    "\n",
    "A partir de los siguientes diccionarios:"
   ]
  },
  {
   "cell_type": "code",
   "execution_count": 25,
   "id": "dd379a19",
   "metadata": {},
   "outputs": [],
   "source": [
    "Car_Price = {'Company': ['Toyota', 'Honda', 'BMV', 'Audi'], 'Price': [23845, 17995, 135925 , 71400]}\n",
    "car_Horsepower = {'Company': ['Toyota', 'Honda', 'BMV', 'Audi'], 'horsepower': [141, 80, 182 , 160]}"
   ]
  },
  {
   "cell_type": "markdown",
   "id": "f984e298",
   "metadata": {},
   "source": [
    "* Cree dos dataframes (**carsDf1** y **carsDf2**) según corresponda.\n",
    "*  Junte ambos dataframes (**carsDf**) por la llave **Company**."
   ]
  },
  {
   "cell_type": "code",
   "execution_count": 26,
   "id": "85e7e1cc",
   "metadata": {},
   "outputs": [
    {
     "name": "stdout",
     "output_type": "stream",
     "text": [
      "     comp   price\n",
      "0  Toyota   23845\n",
      "1   Honda   17995\n",
      "2     BMV  135925\n",
      "3    Audi   71400\n",
      "     comp   hp\n",
      "0  Toyota  141\n",
      "1   Honda   80\n",
      "2     BMV  182\n",
      "3    Audi  160\n",
      "     comp   price   hp\n",
      "0  Toyota   23845  141\n",
      "1   Honda   17995   80\n",
      "2     BMV  135925  182\n",
      "3    Audi   71400  160\n"
     ]
    }
   ],
   "source": [
    "price_data=list()\n",
    "for i in range(len(Car_Price['Company'])):\n",
    "    price_data.append([Car_Price['Company'][i],Car_Price['Price'][i]])\n",
    "    \n",
    "carsDf1 = pd.DataFrame(\n",
    "    price_data,\n",
    "    columns = ['comp','price']\n",
    ")\n",
    "print(carsDf1)\n",
    "\n",
    "hp_data=list()\n",
    "for i in range(len(car_Horsepower['Company'])):\n",
    "    hp_data.append([car_Horsepower['Company'][i],car_Horsepower['horsepower'][i]])\n",
    "    \n",
    "carsDf2 = pd.DataFrame(\n",
    "    hp_data,\n",
    "    columns = ['comp','hp']\n",
    ")\n",
    "print(carsDf2)\n",
    "carsDf = pd.merge(carsDf1, carsDf2, on='comp', how='outer')\n",
    "\n",
    "print(carsDf)"
   ]
  },
  {
   "cell_type": "code",
   "execution_count": null,
   "id": "d051c46c",
   "metadata": {},
   "outputs": [],
   "source": []
  }
 ],
 "metadata": {
  "kernelspec": {
   "display_name": "Python 3",
   "language": "python",
   "name": "python3"
  },
  "language_info": {
   "codemirror_mode": {
    "name": "ipython",
    "version": 3
   },
   "file_extension": ".py",
   "mimetype": "text/x-python",
   "name": "python",
   "nbconvert_exporter": "python",
   "pygments_lexer": "ipython3",
   "version": "3.8.8"
  }
 },
 "nbformat": 4,
 "nbformat_minor": 5
}
